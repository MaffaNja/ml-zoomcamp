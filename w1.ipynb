{
 "cells": [
  {
   "cell_type": "code",
   "id": "initial_id",
   "metadata": {
    "collapsed": true,
    "ExecuteTime": {
     "end_time": "2024-09-30T13:15:21.790186Z",
     "start_time": "2024-09-30T13:15:21.784903Z"
    }
   },
   "source": [
    "import pandas as pd\n",
    "import matplotlib as plt\n",
    "import numpy as np\n",
    "import seaborn as sns"
   ],
   "outputs": [],
   "execution_count": 79
  },
  {
   "metadata": {},
   "cell_type": "markdown",
   "source": [
    "Q1. Pandas version \n",
    "What's the version of Pandas that you installed?"
   ],
   "id": "33f323cefe8cb2ad"
  },
  {
   "metadata": {
    "ExecuteTime": {
     "end_time": "2024-09-30T13:15:22.680350Z",
     "start_time": "2024-09-30T13:15:22.675085Z"
    }
   },
   "cell_type": "code",
   "source": "pd.__version__",
   "id": "b60ee35829d5740",
   "outputs": [
    {
     "data": {
      "text/plain": [
       "'2.2.2'"
      ]
     },
     "execution_count": 80,
     "metadata": {},
     "output_type": "execute_result"
    }
   ],
   "execution_count": 80
  },
  {
   "metadata": {},
   "cell_type": "markdown",
   "source": [
    "Q2. Records count\n",
    "How many records are in the dataset?"
   ],
   "id": "99cdf98c93f2d796"
  },
  {
   "metadata": {
    "ExecuteTime": {
     "end_time": "2024-09-30T13:15:23.501559Z",
     "start_time": "2024-09-30T13:15:23.488684Z"
    }
   },
   "cell_type": "code",
   "source": [
    "df = pd.read_csv('laptops.csv')\n",
    "df.shape"
   ],
   "id": "eb4e13da450709b5",
   "outputs": [
    {
     "data": {
      "text/plain": [
       "(2160, 12)"
      ]
     },
     "execution_count": 81,
     "metadata": {},
     "output_type": "execute_result"
    }
   ],
   "execution_count": 81
  },
  {
   "metadata": {},
   "cell_type": "markdown",
   "source": [
    "Q3. Laptop brands\n",
    "How many laptop brands are presented in the dataset?"
   ],
   "id": "36d025bbf14ec688"
  },
  {
   "metadata": {
    "ExecuteTime": {
     "end_time": "2024-09-30T13:15:23.955134Z",
     "start_time": "2024-09-30T13:15:23.949861Z"
    }
   },
   "cell_type": "code",
   "source": "df[\"Brand\"].nunique()",
   "id": "d38e83358fe9899b",
   "outputs": [
    {
     "data": {
      "text/plain": [
       "27"
      ]
     },
     "execution_count": 82,
     "metadata": {},
     "output_type": "execute_result"
    }
   ],
   "execution_count": 82
  },
  {
   "metadata": {},
   "cell_type": "markdown",
   "source": [
    "Q4. Missing values\n",
    "How many columns in the dataset have missing values?"
   ],
   "id": "5a698e1697f4c251"
  },
  {
   "metadata": {
    "ExecuteTime": {
     "end_time": "2024-09-30T13:15:24.341865Z",
     "start_time": "2024-09-30T13:15:24.335442Z"
    }
   },
   "cell_type": "code",
   "source": "df.isnull().sum()",
   "id": "c96539b6dbda2a24",
   "outputs": [
    {
     "data": {
      "text/plain": [
       "Laptop             0\n",
       "Status             0\n",
       "Brand              0\n",
       "Model              0\n",
       "CPU                0\n",
       "RAM                0\n",
       "Storage            0\n",
       "Storage type      42\n",
       "GPU             1371\n",
       "Screen             4\n",
       "Touch              0\n",
       "Final Price        0\n",
       "dtype: int64"
      ]
     },
     "execution_count": 83,
     "metadata": {},
     "output_type": "execute_result"
    }
   ],
   "execution_count": 83
  },
  {
   "metadata": {},
   "cell_type": "markdown",
   "source": [
    "Q5. Maximum final price\n",
    "What's the maximum final price of Dell notebooks in the dataset?"
   ],
   "id": "844d786754888322"
  },
  {
   "metadata": {
    "ExecuteTime": {
     "end_time": "2024-09-30T13:15:24.774588Z",
     "start_time": "2024-09-30T13:15:24.768249Z"
    }
   },
   "cell_type": "code",
   "source": "df[df[\"Brand\"] == \"Dell\"][\"Final Price\"].max()",
   "id": "c5f0dc90ff87fed1",
   "outputs": [
    {
     "data": {
      "text/plain": [
       "3936.0"
      ]
     },
     "execution_count": 84,
     "metadata": {},
     "output_type": "execute_result"
    }
   ],
   "execution_count": 84
  },
  {
   "metadata": {},
   "cell_type": "markdown",
   "source": "Q6. Median value of Screen",
   "id": "34b7489b4455e71a"
  },
  {
   "metadata": {
    "ExecuteTime": {
     "end_time": "2024-09-30T13:15:25.211436Z",
     "start_time": "2024-09-30T13:15:25.207266Z"
    }
   },
   "cell_type": "code",
   "source": "df[\"Screen\"].median()",
   "id": "84ac8c72c34237b4",
   "outputs": [
    {
     "data": {
      "text/plain": [
       "15.6"
      ]
     },
     "execution_count": 85,
     "metadata": {},
     "output_type": "execute_result"
    }
   ],
   "execution_count": 85
  },
  {
   "metadata": {
    "ExecuteTime": {
     "end_time": "2024-09-30T13:15:25.535684Z",
     "start_time": "2024-09-30T13:15:25.530040Z"
    }
   },
   "cell_type": "code",
   "source": "df['Screen'].mode()",
   "id": "54c0b66dd113d83a",
   "outputs": [
    {
     "data": {
      "text/plain": [
       "0    15.6\n",
       "Name: Screen, dtype: float64"
      ]
     },
     "execution_count": 86,
     "metadata": {},
     "output_type": "execute_result"
    }
   ],
   "execution_count": 86
  },
  {
   "metadata": {
    "ExecuteTime": {
     "end_time": "2024-09-30T13:15:25.803126Z",
     "start_time": "2024-09-30T13:15:25.797829Z"
    }
   },
   "cell_type": "code",
   "source": [
    "df1 = df['Screen'].fillna(15.6)\n",
    "df1.median()"
   ],
   "id": "ad6f65ec50bffb97",
   "outputs": [
    {
     "data": {
      "text/plain": [
       "15.6"
      ]
     },
     "execution_count": 87,
     "metadata": {},
     "output_type": "execute_result"
    }
   ],
   "execution_count": 87
  },
  {
   "metadata": {},
   "cell_type": "markdown",
   "source": "Q7. Sum of weights",
   "id": "bf99481790589359"
  },
  {
   "metadata": {
    "ExecuteTime": {
     "end_time": "2024-09-30T13:15:26.260464Z",
     "start_time": "2024-09-30T13:15:26.252221Z"
    }
   },
   "cell_type": "code",
   "source": [
    "df2 = df[df[\"Brand\"] == \"Innjoo\"][['RAM', 'Storage', 'Screen']]\n",
    "df2"
   ],
   "id": "bb5491f2d1e6fa2e",
   "outputs": [
    {
     "data": {
      "text/plain": [
       "      RAM  Storage  Screen\n",
       "1478    8      256    15.6\n",
       "1479    8      512    15.6\n",
       "1480    4       64    14.1\n",
       "1481    6       64    14.1\n",
       "1482    6      128    14.1\n",
       "1483    6      128    14.1"
      ],
      "text/html": [
       "<div>\n",
       "<style scoped>\n",
       "    .dataframe tbody tr th:only-of-type {\n",
       "        vertical-align: middle;\n",
       "    }\n",
       "\n",
       "    .dataframe tbody tr th {\n",
       "        vertical-align: top;\n",
       "    }\n",
       "\n",
       "    .dataframe thead th {\n",
       "        text-align: right;\n",
       "    }\n",
       "</style>\n",
       "<table border=\"1\" class=\"dataframe\">\n",
       "  <thead>\n",
       "    <tr style=\"text-align: right;\">\n",
       "      <th></th>\n",
       "      <th>RAM</th>\n",
       "      <th>Storage</th>\n",
       "      <th>Screen</th>\n",
       "    </tr>\n",
       "  </thead>\n",
       "  <tbody>\n",
       "    <tr>\n",
       "      <th>1478</th>\n",
       "      <td>8</td>\n",
       "      <td>256</td>\n",
       "      <td>15.6</td>\n",
       "    </tr>\n",
       "    <tr>\n",
       "      <th>1479</th>\n",
       "      <td>8</td>\n",
       "      <td>512</td>\n",
       "      <td>15.6</td>\n",
       "    </tr>\n",
       "    <tr>\n",
       "      <th>1480</th>\n",
       "      <td>4</td>\n",
       "      <td>64</td>\n",
       "      <td>14.1</td>\n",
       "    </tr>\n",
       "    <tr>\n",
       "      <th>1481</th>\n",
       "      <td>6</td>\n",
       "      <td>64</td>\n",
       "      <td>14.1</td>\n",
       "    </tr>\n",
       "    <tr>\n",
       "      <th>1482</th>\n",
       "      <td>6</td>\n",
       "      <td>128</td>\n",
       "      <td>14.1</td>\n",
       "    </tr>\n",
       "    <tr>\n",
       "      <th>1483</th>\n",
       "      <td>6</td>\n",
       "      <td>128</td>\n",
       "      <td>14.1</td>\n",
       "    </tr>\n",
       "  </tbody>\n",
       "</table>\n",
       "</div>"
      ]
     },
     "execution_count": 88,
     "metadata": {},
     "output_type": "execute_result"
    }
   ],
   "execution_count": 88
  },
  {
   "metadata": {
    "ExecuteTime": {
     "end_time": "2024-09-30T13:15:26.540256Z",
     "start_time": "2024-09-30T13:15:26.533956Z"
    }
   },
   "cell_type": "code",
   "source": [
    "X = np.array(df2)\n",
    "XTX = X.T @ X\n",
    "y = np.array([1100, 1300, 800, 900, 1000, 1100])\n",
    "w = (np.linalg.inv(XTX) @ X.T) @ y\n",
    "sum(w)"
   ],
   "id": "f3d69433c9001aa6",
   "outputs": [
    {
     "data": {
      "text/plain": [
       "91.29988062995588"
      ]
     },
     "execution_count": 89,
     "metadata": {},
     "output_type": "execute_result"
    }
   ],
   "execution_count": 89
  }
 ],
 "metadata": {
  "kernelspec": {
   "display_name": "Python 3",
   "language": "python",
   "name": "python3"
  },
  "language_info": {
   "codemirror_mode": {
    "name": "ipython",
    "version": 2
   },
   "file_extension": ".py",
   "mimetype": "text/x-python",
   "name": "python",
   "nbconvert_exporter": "python",
   "pygments_lexer": "ipython2",
   "version": "2.7.6"
  }
 },
 "nbformat": 4,
 "nbformat_minor": 5
}
