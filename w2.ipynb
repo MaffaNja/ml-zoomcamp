{
 "cells": [
  {
   "cell_type": "code",
   "id": "initial_id",
   "metadata": {
    "collapsed": true,
    "ExecuteTime": {
     "end_time": "2024-10-08T10:28:58.649196Z",
     "start_time": "2024-10-08T10:28:58.645213Z"
    }
   },
   "source": [
    "import pandas as pd\n",
    "import numpy as np\n",
    "\n",
    "import seaborn as sns\n",
    "from matplotlib import pyplot as plt\n",
    "%matplotlib inline"
   ],
   "outputs": [],
   "execution_count": 16
  },
  {
   "metadata": {
    "ExecuteTime": {
     "end_time": "2024-10-08T10:28:58.670066Z",
     "start_time": "2024-10-08T10:28:58.654368Z"
    }
   },
   "cell_type": "code",
   "source": [
    "df = pd.read_csv('laptops.csv')\n",
    "df.columns = df.columns.str.lower().str.replace(' ', '_')\n",
    "print(df.head())"
   ],
   "id": "d86da16033a5b378",
   "outputs": [
    {
     "name": "stdout",
     "output_type": "stream",
     "text": [
      "                                              laptop status   brand  \\\n",
      "0  ASUS ExpertBook B1 B1502CBA-EJ0436X Intel Core...    New    Asus   \n",
      "1  Alurin Go Start Intel Celeron N4020/8GB/256GB ...    New  Alurin   \n",
      "2  ASUS ExpertBook B1 B1502CBA-EJ0424X Intel Core...    New    Asus   \n",
      "3  MSI Katana GF66 12UC-082XES Intel Core i7-1270...    New     MSI   \n",
      "4  HP 15S-FQ5085NS Intel Core i5-1235U/16GB/512GB...    New      HP   \n",
      "\n",
      "        model            cpu  ram  storage storage_type       gpu  screen  \\\n",
      "0  ExpertBook  Intel Core i5    8      512          SSD       NaN    15.6   \n",
      "1          Go  Intel Celeron    8      256          SSD       NaN    15.6   \n",
      "2  ExpertBook  Intel Core i3    8      256          SSD       NaN    15.6   \n",
      "3      Katana  Intel Core i7   16     1000          SSD  RTX 3050    15.6   \n",
      "4         15S  Intel Core i5   16      512          SSD       NaN    15.6   \n",
      "\n",
      "  touch  final_price  \n",
      "0    No      1009.00  \n",
      "1    No       299.00  \n",
      "2    No       789.00  \n",
      "3    No      1199.00  \n",
      "4    No       669.01  \n"
     ]
    }
   ],
   "execution_count": 17
  },
  {
   "metadata": {
    "ExecuteTime": {
     "end_time": "2024-10-08T10:28:58.841903Z",
     "start_time": "2024-10-08T10:28:58.671075Z"
    }
   },
   "cell_type": "code",
   "source": [
    "sns.histplot(df.final_price, bins=50)\n",
    "plt.show()"
   ],
   "id": "e178d5e07a2dc4c3",
   "outputs": [
    {
     "data": {
      "text/plain": [
       "<Figure size 640x480 with 1 Axes>"
      ],
      "image/png": "[encoded data removed]"
     },
     "metadata": {},
     "output_type": "display_data"
    }
   ],
   "execution_count": 18
  },
  {
   "metadata": {
    "ExecuteTime": {
     "end_time": "2024-10-08T10:28:58.849940Z",
     "start_time": "2024-10-08T10:28:58.843346Z"
    }
   },
   "cell_type": "code",
   "source": [
    "base = ['ram', 'storage', 'screen']\n",
    "df[base].isnull().sum()"
   ],
   "id": "adc59a363ae2a2e6",
   "outputs": [
    {
     "data": {
      "text/plain": [
       "ram        0\n",
       "storage    0\n",
       "screen     4\n",
       "dtype: int64"
      ]
     },
     "execution_count": 19,
     "metadata": {},
     "output_type": "execute_result"
    }
   ],
   "execution_count": 19
  },
  {
   "metadata": {
    "ExecuteTime": {
     "end_time": "2024-10-08T10:28:58.855423Z",
     "start_time": "2024-10-08T10:28:58.849940Z"
    }
   },
   "cell_type": "code",
   "source": "df['ram'].median()",
   "id": "e16f35fe3ba488cf",
   "outputs": [
    {
     "data": {
      "text/plain": [
       "16.0"
      ]
     },
     "execution_count": 20,
     "metadata": {},
     "output_type": "execute_result"
    }
   ],
   "execution_count": 20
  },
  {
   "metadata": {
    "ExecuteTime": {
     "end_time": "2024-10-08T10:28:58.866791Z",
     "start_time": "2024-10-08T10:28:58.857791Z"
    }
   },
   "cell_type": "code",
   "source": [
    "np.random.seed(42)\n",
    "\n",
    "n = len(df)\n",
    "\n",
    "n_val = int(0.2 * n)\n",
    "n_test = int(0.2 * n)\n",
    "n_train = n - (n_val + n_test)\n",
    "\n",
    "idx = np.arange(n)\n",
    "np.random.shuffle(idx)\n",
    "\n",
    "df_shuffled = df.iloc[idx]\n",
    "\n",
    "df_train = df_shuffled.iloc[:n_train].copy()\n",
    "print(df_train[base].head())\n",
    "df_val = df_shuffled.iloc[n_train:n_train+n_val].copy()\n",
    "df_test = df_shuffled.iloc[n_train+n_val:].copy()"
   ],
   "id": "aa49a45558da29b7",
   "outputs": [
    {
     "name": "stdout",
     "output_type": "stream",
     "text": [
      "      ram  storage  screen\n",
      "2079   32     1000    15.6\n",
      "668     4       64    14.1\n",
      "2073   32     1000    14.0\n",
      "1113   16      512    13.3\n",
      "788    32     1000    16.0\n"
     ]
    }
   ],
   "execution_count": 21
  },
  {
   "metadata": {
    "ExecuteTime": {
     "end_time": "2024-10-08T10:28:58.872097Z",
     "start_time": "2024-10-08T10:28:58.867802Z"
    }
   },
   "cell_type": "code",
   "source": [
    "y_train = df_train.final_price.values\n",
    "y_val = df_val.final_price.values\n",
    "y_test = df_test.final_price.values\n",
    "\n",
    "del df_train['final_price']\n",
    "del df_val['final_price']\n",
    "del df_test['final_price']"
   ],
   "id": "6e270e15651ee87",
   "outputs": [],
   "execution_count": 22
  },
  {
   "metadata": {
    "ExecuteTime": {
     "end_time": "2024-10-08T10:28:58.876975Z",
     "start_time": "2024-10-08T10:28:58.873693Z"
    }
   },
   "cell_type": "code",
   "source": [
    "def train_linear_regression(X, y):\n",
    "    ones = np.ones(X.shape[0])\n",
    "    X = np.column_stack([ones, X])\n",
    "\n",
    "    XTX = X.T.dot(X)\n",
    "    XTX_inv = np.linalg.inv(XTX)\n",
    "    w = XTX_inv.dot(X.T).dot(y)\n",
    "    \n",
    "    return w[0], w[1:]"
   ],
   "id": "75b31e08b09b4e8a",
   "outputs": [],
   "execution_count": 23
  },
  {
   "metadata": {
    "ExecuteTime": {
     "end_time": "2024-10-08T10:28:58.882388Z",
     "start_time": "2024-10-08T10:28:58.877986Z"
    }
   },
   "cell_type": "code",
   "source": [
    "def prepare_X_mean(df):\n",
    "    df_num = df[base]\n",
    "    df_num = df_num.fillna(df_num.mean())\n",
    "    X = df_num.values\n",
    "    return X\n",
    "\n",
    "def prepare_X_zero(df):\n",
    "    df_num = df[base]\n",
    "    df_num = df_num.fillna(0)\n",
    "    X = df_num.values\n",
    "    return X"
   ],
   "id": "92d7a6e2aa73eda0",
   "outputs": [],
   "execution_count": 24
  },
  {
   "metadata": {
    "ExecuteTime": {
     "end_time": "2024-10-08T10:28:58.886965Z",
     "start_time": "2024-10-08T10:28:58.883397Z"
    }
   },
   "cell_type": "code",
   "source": [
    "def rmse(y, y_pred):\n",
    "    error = y_pred - y\n",
    "    mse = (error ** 2).mean()\n",
    "    return np.sqrt(mse)"
   ],
   "id": "89f791fe22919eea",
   "outputs": [],
   "execution_count": 25
  },
  {
   "metadata": {
    "ExecuteTime": {
     "end_time": "2024-10-08T10:28:58.895013Z",
     "start_time": "2024-10-08T10:28:58.887971Z"
    }
   },
   "cell_type": "code",
   "source": [
    "X_train = prepare_X_zero(df_train)\n",
    "w_0, w = train_linear_regression(X_train, y_train)\n",
    "\n",
    "y_pred = w_0 + X_train.dot(w)\n",
    "print('train', rmse(y_train, y_pred))\n",
    "\n",
    "X_val = prepare_X_zero(df_val)\n",
    "y_pred = w_0 + X_val.dot(w)\n",
    "print('validation', round(rmse(y_val, y_pred), 2))"
   ],
   "id": "f2ab6be85877620d",
   "outputs": [
    {
     "name": "stdout",
     "output_type": "stream",
     "text": [
      "train 602.3920520606714\n",
      "validation 597.36\n"
     ]
    }
   ],
   "execution_count": 26
  },
  {
   "metadata": {
    "ExecuteTime": {
     "end_time": "2024-10-08T10:28:58.903934Z",
     "start_time": "2024-10-08T10:28:58.896408Z"
    }
   },
   "cell_type": "code",
   "source": [
    "X_train = prepare_X_mean(df_train)\n",
    "w_0, w = train_linear_regression(X_train, y_train)\n",
    "\n",
    "y_pred = w_0 + X_train.dot(w)\n",
    "print('train', rmse(y_train, y_pred))\n",
    "\n",
    "X_val = prepare_X_mean(df_val)\n",
    "y_pred = w_0 + X_val.dot(w)\n",
    "print('validation', round(rmse(y_val, y_pred), 2))"
   ],
   "id": "d9d3af0a0b3bbfce",
   "outputs": [
    {
     "name": "stdout",
     "output_type": "stream",
     "text": [
      "train 602.1844959403247\n",
      "validation 600.26\n"
     ]
    }
   ],
   "execution_count": 27
  },
  {
   "metadata": {
    "ExecuteTime": {
     "end_time": "2024-10-08T10:28:58.909061Z",
     "start_time": "2024-10-08T10:28:58.904943Z"
    }
   },
   "cell_type": "code",
   "source": [
    "def train_linear_regression_reg(X, y, r=0.0):\n",
    "    ones = np.ones(X.shape[0])\n",
    "    X = np.column_stack([ones, X])\n",
    "\n",
    "    XTX = X.T.dot(X)\n",
    "    reg = r * np.eye(XTX.shape[0])\n",
    "    XTX = XTX + reg\n",
    "\n",
    "    XTX_inv = np.linalg.inv(XTX)\n",
    "    w = XTX_inv.dot(X.T).dot(y)\n",
    "    \n",
    "    return w[0], w[1:]"
   ],
   "id": "38d67becfd48efb5",
   "outputs": [],
   "execution_count": 28
  },
  {
   "metadata": {
    "ExecuteTime": {
     "end_time": "2024-10-08T10:28:58.917928Z",
     "start_time": "2024-10-08T10:28:58.910065Z"
    }
   },
   "cell_type": "code",
   "source": [
    "X_train = prepare_X_zero(df_train)\n",
    "X_val = prepare_X_zero(df_val)\n",
    "\n",
    "for r in [0, 0.01, 0.1, 1, 5, 10, 100]:\n",
    "    w_0, w = train_linear_regression_reg(X_train, y_train, r=r)\n",
    "    y_pred = w_0 + X_val.dot(w)\n",
    "    print('%6s' %r, round(rmse(y_val, y_pred), 2))"
   ],
   "id": "985c8c03a5621eeb",
   "outputs": [
    {
     "name": "stdout",
     "output_type": "stream",
     "text": [
      "     0 597.36\n",
      "  0.01 597.36\n",
      "   0.1 597.35\n",
      "     1 597.21\n",
      "     5 597.01\n",
      "    10 597.06\n",
      "   100 597.9\n"
     ]
    }
   ],
   "execution_count": 29
  },
  {
   "metadata": {
    "ExecuteTime": {
     "end_time": "2024-10-08T10:28:58.952765Z",
     "start_time": "2024-10-08T10:28:58.920291Z"
    }
   },
   "cell_type": "code",
   "source": [
    "rmse_scores = []\n",
    "for s in [0, 1, 2, 3, 4, 5, 6, 7, 8, 9]:\n",
    "    np.random.seed(s)\n",
    "    idx = np.arange(n)\n",
    "    np.random.shuffle(idx)\n",
    "    \n",
    "    df_shuffled = df.iloc[idx]\n",
    "    \n",
    "    df_train = df_shuffled.iloc[:n_train].copy()\n",
    "    df_val = df_shuffled.iloc[n_train:n_train+n_val].copy()\n",
    "    df_test = df_shuffled.iloc[n_train+n_val:].copy()\n",
    "    \n",
    "    y_train = df_train.final_price.values\n",
    "    y_val = df_val.final_price.values\n",
    "    y_test = df_test.final_price.values\n",
    "\n",
    "    del df_train['final_price']\n",
    "    del df_val['final_price']\n",
    "    del df_test['final_price']\n",
    "    \n",
    "    X_train = prepare_X_zero(df_train)\n",
    "    X_val = prepare_X_zero(df_val)\n",
    "    w_0, w = train_linear_regression(X_train, y_train)\n",
    "    y_pred = w_0 + X_val.dot(w)\n",
    "    \n",
    "    rmse_score = round(rmse(y_val, y_pred), 2)\n",
    "    rmse_scores.append(rmse_score)\n",
    "\n",
    "std_rmse = np.std(rmse_scores)\n",
    "std_rmse_rounded = round(std_rmse, 3)\n",
    "print('std:', std_rmse_rounded)"
   ],
   "id": "3dffea70ffcc21cd",
   "outputs": [
    {
     "name": "stdout",
     "output_type": "stream",
     "text": [
      "std: 29.176\n"
     ]
    }
   ],
   "execution_count": 30
  },
  {
   "metadata": {
    "ExecuteTime": {
     "end_time": "2024-10-08T10:28:58.965595Z",
     "start_time": "2024-10-08T10:28:58.954229Z"
    }
   },
   "cell_type": "code",
   "source": [
    "np.random.seed(9)\n",
    "idx = np.arange(n)\n",
    "np.random.shuffle(idx)\n",
    "\n",
    "df_shuffled = df.iloc[idx]\n",
    "\n",
    "df_train = df_shuffled.iloc[:n_train].copy()\n",
    "df_val = df_shuffled.iloc[n_train:n_train+n_val].copy()\n",
    "df_test = df_shuffled.iloc[n_train+n_val:].copy()\n",
    "\n",
    "df_train_val = pd.concat([df_train, df_val])\n",
    "\n",
    "y_train_val = df_train_val.final_price.values\n",
    "y_test = df_test.final_price.values\n",
    "\n",
    "del df_train_val['final_price']\n",
    "del df_test['final_price']\n",
    "\n",
    "X_train_val = prepare_X_zero(df_train_val)\n",
    "X_test = prepare_X_zero(df_test)\n",
    "\n",
    "w_0, w = train_linear_regression_reg(X_train_val, y_train_val, r=0.001)\n",
    "y_pred = w_0 + X_test.dot(w)\n",
    "print(round(rmse(y_test, y_pred), 2))"
   ],
   "id": "501b80319cc3f0e6",
   "outputs": [
    {
     "name": "stdout",
     "output_type": "stream",
     "text": [
      "608.61\n"
     ]
    }
   ],
   "execution_count": 31
  }
 ],
 "metadata": {
  "kernelspec": {
   "display_name": "Python 3",
   "language": "python",
   "name": "python3"
  },
  "language_info": {
   "codemirror_mode": {
    "name": "ipython",
    "version": 2
   },
   "file_extension": ".py",
   "mimetype": "text/x-python",
   "name": "python",
   "nbconvert_exporter": "python",
   "pygments_lexer": "ipython2",
   "version": "2.7.6"
  }
 },
 "nbformat": 4,
 "nbformat_minor": 5
}
